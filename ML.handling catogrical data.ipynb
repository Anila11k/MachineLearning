{
 "cells": [
  {
   "cell_type": "code",
   "execution_count": 1,
   "id": "0ea0e0e4-b974-4f61-80ad-c162283292ac",
   "metadata": {},
   "outputs": [
    {
     "name": "stdout",
     "output_type": "stream",
     "text": [
      "[1 2 0 1 2]\n"
     ]
    }
   ],
   "source": [
    "from sklearn.preprocessing import LabelEncoder\n",
    "data=['low','medium','high','low','medium']\n",
    "le=LabelEncoder()\n",
    "encoded_data=le.fit_transform(data)\n",
    "print(encoded_data)"
   ]
  },
  {
   "cell_type": "code",
   "execution_count": 23,
   "id": "c2807532-d574-4e0e-86ac-742ef6aee484",
   "metadata": {},
   "outputs": [
    {
     "name": "stdout",
     "output_type": "stream",
     "text": [
      "[1 2 0 1 2]\n"
     ]
    }
   ],
   "source": [
    "import pandas as pd\n",
    "data=['red','green','blue','green','red']\n",
    "df=pd.DataFrame(data,columns=['color'])\n",
    "encoded_Data= pd.get_dummies(df,columns=['color'])\n",
    "print(encoded_data)\n"
   ]
  },
  {
   "cell_type": "code",
   "execution_count": 25,
   "id": "25936004-3e13-4f95-8383-ee345857e612",
   "metadata": {},
   "outputs": [
    {
     "name": "stdout",
     "output_type": "stream",
     "text": [
      "   color_green  color_red\n",
      "0        False       True\n",
      "1        False      False\n",
      "2         True      False\n",
      "3        False      False\n",
      "4         True      False\n"
     ]
    }
   ],
   "source": [
    "import pandas as pd\n",
    "data=['red','blue','green','blue','green']\n",
    "df=pd.DataFrame(data, columns=['color'])\n",
    "dummy_encoded_df= pd.get_dummies(df,drop_first=True)\n",
    "print (dummy_encoded_df)"
   ]
  },
  {
   "cell_type": "code",
   "execution_count": null,
   "id": "c14eb3b6-7665-4074-8b1f-52ca424eb089",
   "metadata": {},
   "outputs": [],
   "source": []
  }
 ],
 "metadata": {
  "kernelspec": {
   "display_name": "Python 3 (ipykernel)",
   "language": "python",
   "name": "python3"
  },
  "language_info": {
   "codemirror_mode": {
    "name": "ipython",
    "version": 3
   },
   "file_extension": ".py",
   "mimetype": "text/x-python",
   "name": "python",
   "nbconvert_exporter": "python",
   "pygments_lexer": "ipython3",
   "version": "3.12.7"
  }
 },
 "nbformat": 4,
 "nbformat_minor": 5
}
